{
 "cells": [
  {
   "cell_type": "code",
   "execution_count": 4,
   "metadata": {},
   "outputs": [],
   "source": [
    "import pandas as pd"
   ]
  },
  {
   "cell_type": "code",
   "execution_count": 5,
   "metadata": {},
   "outputs": [],
   "source": [
    "file_one = '03-Python_Homework_PyBank_Resources_budget_data.csv'"
   ]
  },
  {
   "cell_type": "code",
   "execution_count": 6,
   "metadata": {},
   "outputs": [],
   "source": [
    "file_one_df = pd.read_csv(file_one)"
   ]
  },
  {
   "cell_type": "code",
   "execution_count": 7,
   "metadata": {},
   "outputs": [
    {
     "data": {
      "text/html": [
       "<div>\n",
       "<style scoped>\n",
       "    .dataframe tbody tr th:only-of-type {\n",
       "        vertical-align: middle;\n",
       "    }\n",
       "\n",
       "    .dataframe tbody tr th {\n",
       "        vertical-align: top;\n",
       "    }\n",
       "\n",
       "    .dataframe thead th {\n",
       "        text-align: right;\n",
       "    }\n",
       "</style>\n",
       "<table border=\"1\" class=\"dataframe\">\n",
       "  <thead>\n",
       "    <tr style=\"text-align: right;\">\n",
       "      <th></th>\n",
       "      <th>Date</th>\n",
       "      <th>Profit/Losses</th>\n",
       "    </tr>\n",
       "  </thead>\n",
       "  <tbody>\n",
       "    <tr>\n",
       "      <th>0</th>\n",
       "      <td>Jan-2010</td>\n",
       "      <td>867884</td>\n",
       "    </tr>\n",
       "    <tr>\n",
       "      <th>1</th>\n",
       "      <td>Feb-2010</td>\n",
       "      <td>984655</td>\n",
       "    </tr>\n",
       "    <tr>\n",
       "      <th>2</th>\n",
       "      <td>Mar-2010</td>\n",
       "      <td>322013</td>\n",
       "    </tr>\n",
       "    <tr>\n",
       "      <th>3</th>\n",
       "      <td>Apr-2010</td>\n",
       "      <td>-69417</td>\n",
       "    </tr>\n",
       "    <tr>\n",
       "      <th>4</th>\n",
       "      <td>May-2010</td>\n",
       "      <td>310503</td>\n",
       "    </tr>\n",
       "  </tbody>\n",
       "</table>\n",
       "</div>"
      ],
      "text/plain": [
       "       Date  Profit/Losses\n",
       "0  Jan-2010         867884\n",
       "1  Feb-2010         984655\n",
       "2  Mar-2010         322013\n",
       "3  Apr-2010         -69417\n",
       "4  May-2010         310503"
      ]
     },
     "execution_count": 7,
     "metadata": {},
     "output_type": "execute_result"
    }
   ],
   "source": [
    "file_one_df.head()"
   ]
  },
  {
   "cell_type": "code",
   "execution_count": 8,
   "metadata": {},
   "outputs": [
    {
     "data": {
      "text/plain": [
       "Date             86\n",
       "Profit/Losses    86\n",
       "dtype: int64"
      ]
     },
     "execution_count": 8,
     "metadata": {},
     "output_type": "execute_result"
    }
   ],
   "source": [
    "file_one_df.count()"
   ]
  },
  {
   "cell_type": "code",
   "execution_count": 9,
   "metadata": {},
   "outputs": [
    {
     "name": "stdout",
     "output_type": "stream",
     "text": [
      "Total Revenue: $38382578\n"
     ]
    }
   ],
   "source": [
    "total_revenue = file_one_df[\"Profit/Losses\"].sum()\n",
    "print(f\"Total Revenue: ${total_revenue}\")"
   ]
  },
  {
   "cell_type": "code",
   "execution_count": 31,
   "metadata": {},
   "outputs": [
    {
     "name": "stdout",
     "output_type": "stream",
     "text": [
      "Months: 86\n"
     ]
    }
   ],
   "source": [
    "month_count = file_one_df[\"Date\"].count()\n",
    "print(f\"Months: {month_count}\")"
   ]
  },
  {
   "cell_type": "code",
   "execution_count": 32,
   "metadata": {},
   "outputs": [
    {
     "data": {
      "text/plain": [
       "-2315.12"
      ]
     },
     "execution_count": 32,
     "metadata": {},
     "output_type": "execute_result"
    }
   ],
   "source": [
    "revenue_change = file_one_df[\"Profit/Losses\"].diff().mean()\n",
    "round(revenue_change,2)"
   ]
  },
  {
   "cell_type": "code",
   "execution_count": 33,
   "metadata": {
    "scrolled": true
   },
   "outputs": [
    {
     "data": {
      "text/plain": [
       "1926159.0"
      ]
     },
     "execution_count": 33,
     "metadata": {},
     "output_type": "execute_result"
    }
   ],
   "source": [
    "profit_increase_max = file_one_df[\"Profit/Losses\"].diff().max()\n",
    "profit_increase_max"
   ]
  },
  {
   "cell_type": "code",
   "execution_count": 34,
   "metadata": {},
   "outputs": [
    {
     "data": {
      "text/plain": [
       "-2196167.0"
      ]
     },
     "execution_count": 34,
     "metadata": {},
     "output_type": "execute_result"
    }
   ],
   "source": [
    "profit_loss_most = file_one_df[\"Profit/Losses\"].diff().min()\n",
    "profit_loss_most"
   ]
  },
  {
   "cell_type": "code",
   "execution_count": 35,
   "metadata": {},
   "outputs": [],
   "source": [
    "file_one_df[\"Difference\"] = file_one_df[\"Profit/Losses\"].diff()"
   ]
  },
  {
   "cell_type": "code",
   "execution_count": 36,
   "metadata": {},
   "outputs": [
    {
     "data": {
      "text/plain": [
       "'Feb-2012'"
      ]
     },
     "execution_count": 36,
     "metadata": {},
     "output_type": "execute_result"
    }
   ],
   "source": [
    "greatest_row = file_one_df.loc[file_one_df[\"Difference\"] == profit_increase_max, \"Date\"]\n",
    "greatest_increase_date=greatest_row.iloc[0]\n",
    "greatest_increase_date\n"
   ]
  },
  {
   "cell_type": "code",
   "execution_count": 37,
   "metadata": {},
   "outputs": [
    {
     "data": {
      "text/plain": [
       "'Sep-2013'"
      ]
     },
     "execution_count": 37,
     "metadata": {},
     "output_type": "execute_result"
    }
   ],
   "source": [
    "smallest_row = file_one_df.loc[file_one_df[\"Difference\"] == profit_loss_most, \"Date\"]\n",
    "smallest_min_date = smallest_row.iloc[0]\n",
    "smallest_min_date"
   ]
  },
  {
   "cell_type": "code",
   "execution_count": 48,
   "metadata": {},
   "outputs": [],
   "source": [
    "# L = [print(\"ANALYSIS:\"), print(f\"Months: {month_count}\"), print(f\"Total Revenue:${total_revenue}\"),print(\"--------------\"), \n",
    "#     print(f\"Average Change:${round(profit_loss,2)}\"), print(f\"Greatest Increase In Profit: {greatest_increase_date} ${profit_increase_max}\"),\n",
    "#     print(f\"Greatest Decrease In Profit: {smallest_min_date} ${profit_loss_most}\")]\n",
    "# print(\"ANALYSIS:\")\n",
    "# print(f\"Months: {month_count}\")\n",
    "# print(f\"Total Revenue:${total_revenue}\")\n",
    "# print(\"--------------\")\n",
    "# print(f\"Average Change:${round(profit_loss,2)}\")\n",
    "# print(f\"Greatest Increase In Profit: {greatest_increase_date} ${profit_increase_max}\")\n",
    "# print(f\"Greatest Decrease In Profit: {smallest_min_date} ${profit_loss_most}\")\n"
   ]
  },
  {
   "cell_type": "code",
   "execution_count": 68,
   "metadata": {},
   "outputs": [],
   "source": [
    "finalAnswers = open(\"FinalAnswers.txt\", \"w+\")\n",
    "finalAnswers.write(\"ANALYSIS: \\n\")\n",
    "finalAnswers.write((f\"Months: {month_count}\\n\"))\n",
    "finalAnswers.write((f\"Total Revenue:${total_revenue}\\n\"))\n",
    "finalAnswers.write((\"--------------\\n\"))\n",
    "finalAnswers.write((f\"Average Change:${round(profit_loss,2)}\\n\"))\n",
    "finalAnswers.write((f\"Greatest Increase In Profit: {greatest_increase_date} ${profit_increase_max}\\n\"))\n",
    "finalAnswers.write((f\"Greatest Decrease In Profit: {smallest_min_date} ${profit_loss_most}\\n\"))\n",
    "finalAnswers.close()\n"
   ]
  },
  {
   "cell_type": "code",
   "execution_count": null,
   "metadata": {},
   "outputs": [],
   "source": []
  }
 ],
 "metadata": {
  "kernelspec": {
   "display_name": "Python 3",
   "language": "python",
   "name": "python3"
  },
  "language_info": {
   "codemirror_mode": {
    "name": "ipython",
    "version": 3
   },
   "file_extension": ".py",
   "mimetype": "text/x-python",
   "name": "python",
   "nbconvert_exporter": "python",
   "pygments_lexer": "ipython3",
   "version": "3.6.9"
  }
 },
 "nbformat": 4,
 "nbformat_minor": 2
}
